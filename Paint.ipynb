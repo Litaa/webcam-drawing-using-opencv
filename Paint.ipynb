{
 "cells": [
  {
   "cell_type": "markdown",
   "metadata": {},
   "source": [
    "# Webcam draw using openCV in python"
   ]
  },
  {
   "cell_type": "markdown",
   "metadata": {},
   "source": [
    "## Introduction\n",
    "openCV adalah sebuah library yang digunakan untuk mengolah gambar dan mengekstraksi informasi didalamnya. Library ini dapat di implementasikan dalam berbagai macam bahasa pemrograman, salah satunya adalah python. Dengan menggunakan library openCV pada python, kita dapat melakukan deteksi object, pengenalan wajah, dan deteksi emosi pada wajah. \n",
    "Pada notebook kali ini, kita akan memanfaatkan library openCV untuk membangun webuah webcam draw (aplikasi sejenis paint). Ide utama dari webcam draw ini adalah mendeteksi pergerakan object. Object yang digunakan dalam project ini adalah object berbentuk lingkaran (tutup botol).\n",
    "\n",
    "### Objective:\n",
    "Webcam paint dapat digunakan sebagai alternatif untuk menggambar object secara virtual dan juga dapat digunakan dalam dunia pendidikan untuk pengenalan sistem Augmented Reality sederhana."
   ]
  },
  {
   "cell_type": "markdown",
   "metadata": {},
   "source": [
    "### Demo Program"
   ]
  },
  {
   "cell_type": "markdown",
   "metadata": {},
   "source": [
    "#### Import library\n",
    "Import library yang dibutuhkan, yaitu openCV (cv2) dan numpy"
   ]
  },
  {
   "cell_type": "code",
   "execution_count": 6,
   "metadata": {
    "ExecuteTime": {
     "end_time": "2020-08-01T08:11:20.581016Z",
     "start_time": "2020-08-01T08:11:20.572999Z"
    }
   },
   "outputs": [],
   "source": [
    "import numpy as np\n",
    "import cv2\n",
    "from collections import deque"
   ]
  },
  {
   "cell_type": "markdown",
   "metadata": {},
   "source": [
    "#### Set upper and lower bound\n",
    "Inisialisasi warna dan object yang akan dideteksi oleh camera"
   ]
  },
  {
   "cell_type": "code",
   "execution_count": 7,
   "metadata": {
    "ExecuteTime": {
     "end_time": "2020-08-01T08:11:20.757024Z",
     "start_time": "2020-08-01T08:11:20.581016Z"
    }
   },
   "outputs": [],
   "source": [
    "blueLower = np.array([100, 60, 60])\n",
    "blueUpper = np.array([140, 255, 255])\n",
    "\n",
    "kernel = np.ones((5, 5), np.uint8)\n",
    "\n",
    "bpoints = [deque(maxlen=512)]\n",
    "gpoints = [deque(maxlen=512)]\n",
    "rpoints = [deque(maxlen=512)]\n",
    "ypoints = [deque(maxlen=512)]\n",
    "\n",
    "bindex = 0\n",
    "gindex = 0\n",
    "rindex = 0\n",
    "yindex = 0\n",
    "\n",
    "#RGB untuk warna Biru, Hijau, Merah, dan Kuning\n",
    "colors = [(255, 0, 0), (0, 255, 0), (0, 0, 255), (0, 255, 255)]\n",
    "colorIndex = 0"
   ]
  },
  {
   "cell_type": "markdown",
   "metadata": {},
   "source": [
    "#### Create a window\n",
    "Membuat window yang akan digunakan untuk mendeteksi pergerakan object."
   ]
  },
  {
   "cell_type": "code",
   "execution_count": 8,
   "metadata": {
    "ExecuteTime": {
     "end_time": "2020-08-01T08:11:20.989024Z",
     "start_time": "2020-08-01T08:11:20.765010Z"
    }
   },
   "outputs": [],
   "source": [
    "paintWindow = np.zeros((471,636,3)) + 255\n",
    "paintWindow = cv2.rectangle(paintWindow, (40,1), (140,65), (0,0,0), 2)\n",
    "paintWindow = cv2.rectangle(paintWindow, (160,1), (255,65), colors[0], -1)\n",
    "paintWindow = cv2.rectangle(paintWindow, (275,1), (370,65), colors[1], -1)\n",
    "paintWindow = cv2.rectangle(paintWindow, (390,1), (485,65), colors[2], -1)\n",
    "paintWindow = cv2.rectangle(paintWindow, (505,1), (600,65), colors[3], -1)\n",
    "cv2.putText(paintWindow, \"HAPUS\", (49, 33), cv2.FONT_HERSHEY_SIMPLEX, 0.5, (0, 0, 0), 2, cv2.LINE_AA)\n",
    "cv2.putText(paintWindow, \"BIRU\", (185, 33), cv2.FONT_HERSHEY_SIMPLEX, 0.5, (255, 255, 255), 2, cv2.LINE_AA)\n",
    "cv2.putText(paintWindow, \"HIJAU\", (298, 33), cv2.FONT_HERSHEY_SIMPLEX, 0.5, (255, 255, 255), 2, cv2.LINE_AA)\n",
    "cv2.putText(paintWindow, \"MERAH\", (420, 33), cv2.FONT_HERSHEY_SIMPLEX, 0.5, (255, 255, 255), 2, cv2.LINE_AA)\n",
    "cv2.putText(paintWindow, \"KUNING\", (520, 33), cv2.FONT_HERSHEY_SIMPLEX, 0.5, (150,150,150), 2, cv2.LINE_AA)\n",
    "\n",
    "cv2.namedWindow('Paint', cv2.WINDOW_AUTOSIZE)"
   ]
  },
  {
   "cell_type": "markdown",
   "metadata": {},
   "source": [
    "#### Load Camera\n",
    "`cv2.VideoCapture()` digunakan untuk membuka webcam kita dan membaca video secara realtime pada webcam."
   ]
  },
  {
   "cell_type": "code",
   "execution_count": 9,
   "metadata": {
    "ExecuteTime": {
     "end_time": "2020-08-01T08:15:38.495363Z",
     "start_time": "2020-08-01T08:11:20.997026Z"
    }
   },
   "outputs": [],
   "source": [
    "camera = cv2.VideoCapture(0)\n",
    "while True:\n",
    "    (grabbed, frame) = camera.read()\n",
    "    frame = cv2.flip(frame, 1)\n",
    "    hsv = cv2.cvtColor(frame, cv2.COLOR_BGR2HSV)\n",
    "\n",
    "    frame = cv2.rectangle(frame, (40,1), (140,65), (122,122,122), -1)\n",
    "    frame = cv2.rectangle(frame, (160,1), (255,65), colors[0], -1)\n",
    "    frame = cv2.rectangle(frame, (275,1), (370,65), colors[1], -1)\n",
    "    frame = cv2.rectangle(frame, (390,1), (485,65), colors[2], -1)\n",
    "    frame = cv2.rectangle(frame, (505,1), (600,65), colors[3], -1)\n",
    "    cv2.putText(frame, \"HAPUS\", (49, 33), cv2.FONT_HERSHEY_SIMPLEX, 0.5, (255, 255, 255), 2, cv2.LINE_AA)\n",
    "    cv2.putText(frame, \"BIRU\", (185, 33), cv2.FONT_HERSHEY_SIMPLEX, 0.5, (255, 255, 255), 2, cv2.LINE_AA)\n",
    "    cv2.putText(frame, \"HIJAU\", (298, 33), cv2.FONT_HERSHEY_SIMPLEX, 0.5, (255, 255, 255), 2, cv2.LINE_AA)\n",
    "    cv2.putText(frame, \"MERAH\", (420, 33), cv2.FONT_HERSHEY_SIMPLEX, 0.5, (255, 255, 255), 2, cv2.LINE_AA)\n",
    "    cv2.putText(frame, \"KUNING\", (520, 33), cv2.FONT_HERSHEY_SIMPLEX, 0.5, (150,150,150), 2, cv2.LINE_AA)\n",
    "    \n",
    "    if not grabbed:\n",
    "        break\n",
    "\n",
    "    blueMask = cv2.inRange(hsv, blueLower, blueUpper)\n",
    "    blueMask = cv2.erode(blueMask, kernel, iterations=2)\n",
    "    blueMask = cv2.morphologyEx(blueMask, cv2.MORPH_OPEN, kernel)\n",
    "    blueMask = cv2.dilate(blueMask, kernel, iterations=1)\n",
    "\n",
    "    (cnts, _) = cv2.findContours(blueMask.copy(), cv2.RETR_EXTERNAL,cv2.CHAIN_APPROX_SIMPLE)\n",
    "    center = None\n",
    "    \n",
    "    if len(cnts) > 0:\n",
    "        cnt = sorted(cnts, key = cv2.contourArea, reverse = True)[0]\n",
    "        ((x, y), radius) = cv2.minEnclosingCircle(cnt)\n",
    "        cv2.circle(frame, (int(x), int(y)), int(radius), (0, 255, 255), 2)\n",
    "        M = cv2.moments(cnt)\n",
    "        center = (int(M['m10'] / M['m00']), int(M['m01'] / M['m00']))\n",
    "\n",
    "        if center[1] <= 65:\n",
    "            if 40 <= center[0] <= 140: # Clear All\n",
    "                bpoints = [deque(maxlen=512)]\n",
    "                gpoints = [deque(maxlen=512)]\n",
    "                rpoints = [deque(maxlen=512)]\n",
    "                ypoints = [deque(maxlen=512)]\n",
    "\n",
    "                bindex = 0\n",
    "                gindex = 0\n",
    "                rindex = 0\n",
    "                yindex = 0\n",
    "\n",
    "                paintWindow[67:,:,:] = 255\n",
    "            elif 160 <= center[0] <= 255:\n",
    "                    colorIndex = 0 # Blue\n",
    "            elif 275 <= center[0] <= 370:\n",
    "                    colorIndex = 1 # Green\n",
    "            elif 390 <= center[0] <= 485:\n",
    "                    colorIndex = 2 # Red\n",
    "            elif 505 <= center[0] <= 600:\n",
    "                    colorIndex = 3 # Yellow\n",
    "        else :\n",
    "            if colorIndex == 0:\n",
    "                bpoints[bindex].appendleft(center)\n",
    "            elif colorIndex == 1:\n",
    "                gpoints[gindex].appendleft(center)\n",
    "            elif colorIndex == 2:\n",
    "                rpoints[rindex].appendleft(center)\n",
    "            elif colorIndex == 3:\n",
    "                ypoints[yindex].appendleft(center)\n",
    "    else:\n",
    "        bpoints.append(deque(maxlen=512))\n",
    "        bindex += 1\n",
    "        gpoints.append(deque(maxlen=512))\n",
    "        gindex += 1\n",
    "        rpoints.append(deque(maxlen=512))\n",
    "        rindex += 1\n",
    "        ypoints.append(deque(maxlen=512))\n",
    "        yindex += 1\n",
    "        \n",
    "    points = [bpoints, gpoints, rpoints, ypoints]\n",
    "    for i in range(len(points)):\n",
    "        for j in range(len(points[i])):\n",
    "            for k in range(1, len(points[i][j])):\n",
    "                if points[i][j][k - 1] is None or points[i][j][k] is None:\n",
    "                    continue\n",
    "                cv2.line(frame, points[i][j][k - 1], points[i][j][k], colors[i], 2)\n",
    "                cv2.line(paintWindow, points[i][j][k - 1], points[i][j][k], colors[i], 2)\n",
    "\n",
    "    cv2.imshow(\"Tracking\", frame)\n",
    "    cv2.imshow(\"Paint\", paintWindow)\n",
    "\n",
    "    if cv2.waitKey(1) & 0xFF == ord(\"q\"):\n",
    "        break\n",
    "\n",
    "camera.release()\n",
    "cv2.destroyAllWindows()"
   ]
  },
  {
   "cell_type": "markdown",
   "metadata": {},
   "source": [
    "#### Output\n",
    "Output yang dihasilkan berupa window untuk deteksi pergerakan object. Yang akan dideteksi terlebih dahulu adalah warna biru pada object. \n",
    "Di dalam window terdapat beberapa pilihan warna yang dapat digunakan untuk menggambar menggunakan object yang terdeteksi. Selain itu terdapat fitur hapus yang digunakan untuk menghapus hasil gambar pada window\n",
    "\n",
    "<img src=\"output.png\" width=\"700\" />"
   ]
  }
 ],
 "metadata": {
  "kernelspec": {
   "display_name": "Python 3",
   "language": "python",
   "name": "python3"
  },
  "language_info": {
   "codemirror_mode": {
    "name": "ipython",
    "version": 3
   },
   "file_extension": ".py",
   "mimetype": "text/x-python",
   "name": "python",
   "nbconvert_exporter": "python",
   "pygments_lexer": "ipython3",
   "version": "3.7.6"
  },
  "latex_envs": {
   "LaTeX_envs_menu_present": true,
   "autoclose": false,
   "autocomplete": true,
   "bibliofile": "biblio.bib",
   "cite_by": "apalike",
   "current_citInitial": 1,
   "eqLabelWithNumbers": true,
   "eqNumInitial": 1,
   "hotkeys": {
    "equation": "Ctrl-E",
    "itemize": "Ctrl-I"
   },
   "labels_anchors": false,
   "latex_user_defs": false,
   "report_style_numbering": false,
   "user_envs_cfg": false
  },
  "varInspector": {
   "cols": {
    "lenName": 16,
    "lenType": 16,
    "lenVar": 40
   },
   "kernels_config": {
    "python": {
     "delete_cmd_postfix": "",
     "delete_cmd_prefix": "del ",
     "library": "var_list.py",
     "varRefreshCmd": "print(var_dic_list())"
    },
    "r": {
     "delete_cmd_postfix": ") ",
     "delete_cmd_prefix": "rm(",
     "library": "var_list.r",
     "varRefreshCmd": "cat(var_dic_list()) "
    }
   },
   "types_to_exclude": [
    "module",
    "function",
    "builtin_function_or_method",
    "instance",
    "_Feature"
   ],
   "window_display": false
  }
 },
 "nbformat": 4,
 "nbformat_minor": 4
}
